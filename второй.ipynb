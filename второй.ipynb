{
  "nbformat": 4,
  "nbformat_minor": 0,
  "metadata": {
    "colab": {
      "name": "второй.ipynb",
      "provenance": [],
      "collapsed_sections": []
    },
    "kernelspec": {
      "name": "python3",
      "display_name": "Python 3"
    },
    "language_info": {
      "name": "python"
    }
  },
  "cells": [
    {
      "cell_type": "markdown",
      "source": [
        "Пример программы\n"
      ],
      "metadata": {
        "id": "HpYe-QmFXB-f"
      }
    },
    {
      "cell_type": "markdown",
      "source": [
        "# Даны числа x, y, x1, y1, x2, y2.\n",
        "# Проверить истинность высказывания: точка с координатами (x,y) лежит внутри прямоугольника.\n",
        "# При этом левая верхняя вершина имеет координаты (x1,y1), правая нижняя - (x2,y2), а стороны параллельны координатным осям.\n",
        "# Если условие, которое  мы вводим истинно, то точка лежит внутри прямоугольника.\n",
        "# Иначе не лежит внутри прямоугольника."
      ],
      "metadata": {
        "id": "C32l2KeqdNgl"
      }
    },
    {
      "cell_type": "code",
      "execution_count": 1,
      "metadata": {
        "colab": {
          "base_uri": "https://localhost:8080/"
        },
        "id": "ta_fr8LBW56O",
        "outputId": "2dc1f156-c78d-4f95-996a-52ff4c904ec9"
      },
      "outputs": [
        {
          "output_type": "stream",
          "name": "stdout",
          "text": [
            "Введите целое число x:5\n",
            "Введите целое число y:6\n",
            "Введите целое число x1:4\n",
            "Введите целое число y1:7\n",
            "Введите целое число x2:8\n",
            "Введите целое число y2:2\n",
            "Точка лежит внутри прямоугольника\n"
          ]
        }
      ],
      "source": [
        "x = input('Введите целое число x:')\n",
        "y = input('Введите целое число y:')\n",
        "x1 = input('Введите целое число x1:')\n",
        "y1 = input('Введите целое число y1:')\n",
        "x2 = input('Введите целое число x2:')\n",
        "y2 = input('Введите целое число y2:')\n",
        "\n",
        "while type(x) != int:  # Обработка исключений\n",
        "    try:\n",
        "        x = int(x)\n",
        "    except ValueError:\n",
        "        print('Неправильно ввели')\n",
        "        x = input('Введите целое число x: ')\n",
        "\n",
        "while type(y) != int:  # Обработка исключений\n",
        "    try:\n",
        "        y = int(y)\n",
        "    except ValueError:\n",
        "        print('Неправильно ввели')\n",
        "        y = input('Введите целое число y: ')\n",
        "\n",
        "while type(x1) != int:  # Обработка исключений\n",
        "    try:\n",
        "        x1 = int(x1)\n",
        "    except ValueError:\n",
        "        print('Неправильно ввели')\n",
        "        x1 = input('Введите целое число x1: ')\n",
        "\n",
        "while type(y1) != int:  # Обработка исключений\n",
        "    try:\n",
        "        y1 = int(y1)\n",
        "    except ValueError:\n",
        "        print('Неправильно ввели')\n",
        "        y1 = input('Введите целое число y1: ')\n",
        "while type(x2) != int:  # Обработка исключений\n",
        "    try:\n",
        "        x2 = int(x2)\n",
        "    except ValueError:\n",
        "        print('Неправильно ввели')\n",
        "        x2 = input('Введите целое число x2: ')\n",
        "\n",
        "while type(y2) != int:  # Обработка исключений\n",
        "    try:\n",
        "        y2 = int(y2)\n",
        "    except ValueError:\n",
        "        print('Неправильно ввели')\n",
        "        y2 = input('Введите целое число y2: ')\n",
        "\n",
        "if ((x1 <= x <= x2) and (y2 <= y <= y1)):\n",
        "    print('Точка лежит внутри прямоугольника')\n",
        "else:\n",
        "    print('Точка не лежит внутри прямоугольника')\n"
      ]
    },
    {
      "cell_type": "markdown",
      "source": [
        "# Дано целое положительное число N.\n",
        "# Найти произведение 1.1 * 1.2 * 1.3 * ...(N сомножителей).\n",
        "# Делаем проверку исключений."
      ],
      "metadata": {
        "id": "TyhzkVkVdgrz"
      }
    },
    {
      "cell_type": "code",
      "source": [
        "proizv = 1\n",
        "k = 1\n",
        "N = input('Введите целое положительное число N: ')\n",
        "while type(N) != int:\n",
        "    try:\n",
        "        N = int(N)\n",
        "    except ValueError:\n",
        "        print('Неправильно ввели')\n",
        "        N = input('Введите целое число N: ')\n",
        "    if int(N) <= 0:\n",
        "        print('Неправильно ввели')\n",
        "        N = input('Введите целое положительное  число N: ')\n",
        "\n",
        "while k <= N:\n",
        "    k += 0.1\n",
        "    proizv *= k\n",
        "\n",
        "print('Произведение = ', proizv)"
      ],
      "metadata": {
        "colab": {
          "base_uri": "https://localhost:8080/"
        },
        "id": "GI4xZRHHdew7",
        "outputId": "1946b27b-5767-4fcc-c0e8-67b75d5f0861"
      },
      "execution_count": 3,
      "outputs": [
        {
          "output_type": "stream",
          "name": "stdout",
          "text": [
            "Введите целое положительное число N: 3\n",
            "Произведение =  730965.7732919788\n"
          ]
        }
      ]
    },
    {
      "cell_type": "markdown",
      "source": [
        "# Пользователь вводит любой символ.\n",
        "# Функция выводит этот символ 40 раз.\n"
      ],
      "metadata": {
        "id": "9kt68P2id4UL"
      }
    },
    {
      "cell_type": "code",
      "source": [
        "def povtor(a):\n",
        "    a = a * 40\n",
        "    return a\n",
        "\n",
        "\n",
        "a = input('Введите любой символ: ')\n",
        "g_a = povtor(a)\n",
        "print(g_a)"
      ],
      "metadata": {
        "colab": {
          "base_uri": "https://localhost:8080/"
        },
        "id": "WS_Mss8Md4eD",
        "outputId": "3e22740a-42e2-41f3-a9ae-475391f9c35c"
      },
      "execution_count": 4,
      "outputs": [
        {
          "output_type": "stream",
          "name": "stdout",
          "text": [
            "Введите любой символ: hg\n",
            "hghghghghghghghghghghghghghghghghghghghghghghghghghghghghghghghghghghghghghghghg\n"
          ]
        }
      ]
    }
  ]
}